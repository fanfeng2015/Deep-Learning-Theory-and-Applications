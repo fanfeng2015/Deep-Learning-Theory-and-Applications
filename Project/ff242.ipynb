{
 "cells": [
  {
   "cell_type": "markdown",
   "metadata": {},
   "source": [
    "### 1. Data Preprocessing\n"
   ]
  },
  {
   "cell_type": "code",
   "execution_count": 4,
   "metadata": {},
   "outputs": [],
   "source": [
    "import numpy as np\n",
    "import os\n",
    "import sys\n",
    "import shutil\n",
    "import tarfile\n",
    "\n",
    "from matplotlib.pyplot import imshow\n",
    "from six.moves import cPickle as pickle\n",
    "from six.moves.urllib.request import urlretrieve\n",
    "from scipy import io, misc\n",
    "from utils import *\n",
    "from xml.dom import minidom"
   ]
  },
  {
   "cell_type": "code",
   "execution_count": 233,
   "metadata": {},
   "outputs": [],
   "source": [
    "url = 'http://vision.stanford.edu/aditya86/ImageNetDogs/'\n",
    "local_root = '.'\n",
    "\n",
    "num_breeds = 120\n",
    "image_size = 224\n",
    "channel_size = 3"
   ]
  },
  {
   "cell_type": "code",
   "execution_count": 234,
   "metadata": {},
   "outputs": [],
   "source": [
    "# Download dataset\n",
    "def download(filename):\n",
    "    local_dir = os.path.join(local_root, filename)\n",
    "    if not os.path.exists(local_dir):\n",
    "        print('Download: %s ...' % (filename))\n",
    "        filename, _ = urlretrieve(url + filename, local_dir)\n",
    "        print('Download completed ... \\n')\n",
    "    return local_dir"
   ]
  },
  {
   "cell_type": "code",
   "execution_count": 235,
   "metadata": {},
   "outputs": [
    {
     "name": "stdout",
     "output_type": "stream",
     "text": [
      "Download: images.tar ...\n",
      "Download completed ... \n",
      "\n",
      "Download: annotation.tar ...\n",
      "Download completed ... \n",
      "\n",
      "Download: lists.tar ...\n",
      "Download completed ... \n",
      "\n"
     ]
    }
   ],
   "source": [
    "local_dir_images = download('images.tar')\n",
    "local_dir_annotation = download('annotation.tar')\n",
    "local_dir_lists = download('lists.tar')"
   ]
  },
  {
   "cell_type": "code",
   "execution_count": 236,
   "metadata": {},
   "outputs": [],
   "source": [
    "# Extract .tar files\n",
    "def extract(filename, return_folders=True):\n",
    "    local_dir = os.path.splitext(filename)[0]   # remove .tar\n",
    "    if not os.path.isdir(local_dir):\n",
    "        print('Extract: %s ...' % local_dir)\n",
    "        tar = tarfile.open(filename)\n",
    "        sys.stdout.flush()\n",
    "        tar.extractall(local_root)\n",
    "        tar.close()\n",
    "        print('Extract completed ... \\n')\n",
    "    if return_folders:\n",
    "        folders = [os.path.join(local_dir, d) \n",
    "                   for d in sorted(os.listdir(local_dir)) if os.path.isdir(os.path.join(local_dir, d))]\n",
    "        return folders    "
   ]
  },
  {
   "cell_type": "code",
   "execution_count": 237,
   "metadata": {},
   "outputs": [
    {
     "name": "stdout",
     "output_type": "stream",
     "text": [
      "Extract: images ...\n",
      "Extract completed ... \n",
      "\n",
      "Extract: annotation ...\n",
      "Extract completed ... \n",
      "\n",
      "Extract: ./lists ...\n",
      "Extract completed ... \n",
      "\n"
     ]
    }
   ],
   "source": [
    "folders_images = extract('images.tar')\n",
    "folders_annotation = extract('annotation.tar')\n",
    "_ = extract(local_dir_lists, return_folders=False)"
   ]
  },
  {
   "cell_type": "code",
   "execution_count": 238,
   "metadata": {},
   "outputs": [],
   "source": [
    "# Create directories\n",
    "os.mkdir(\"train\")\n",
    "os.mkdir(\"test\")\n",
    "os.mkdir(\"resize\")\n",
    "os.mkdir(\"resize/train\")\n",
    "os.mkdir(\"resize/test\")"
   ]
  },
  {
   "cell_type": "code",
   "execution_count": 239,
   "metadata": {},
   "outputs": [],
   "source": [
    "# Create sub-directories (.../(breed)/)\n",
    "for folder in folders_images:\n",
    "    os.makedirs(\"train/\" + folder.split(\"/\")[-1])\n",
    "    os.makedirs(\"test/\" + folder.split(\"/\")[-1])\n",
    "    os.makedirs(\"resize/train/\" + folder.split(\"/\")[-1])\n",
    "    os.makedirs(\"resize/test/\" + folder.split(\"/\")[-1])"
   ]
  },
  {
   "cell_type": "code",
   "execution_count": 240,
   "metadata": {},
   "outputs": [],
   "source": [
    "# Note: In train_list, each breed has exactly 100 images. The rest (however many) of the images are in test_list\n",
    "train_list = io.loadmat('train_list.mat')['file_list']\n",
    "test_list = io.loadmat('test_list.mat')['file_list']"
   ]
  },
  {
   "cell_type": "code",
   "execution_count": 241,
   "metadata": {},
   "outputs": [],
   "source": [
    "# Move images from /Images/... to /train/... and /test/...\n",
    "def move(files, to_dir):\n",
    "    for file in files:\n",
    "        if os.path.exists('Images/' + file[0][0]):\n",
    "            shutil.move('Images/' + file[0][0], to_dir + '/' + file[0][0])\n",
    "    return [to_dir + '/' + d for d in sorted(os.listdir(to_dir)) if os.path.isdir(os.path.join(to_dir, d))]"
   ]
  },
  {
   "cell_type": "code",
   "execution_count": 242,
   "metadata": {},
   "outputs": [],
   "source": [
    "folders_train = move(train_list, 'train')\n",
    "folders_test = move(test_list, 'test')"
   ]
  },
  {
   "cell_type": "code",
   "execution_count": null,
   "metadata": {},
   "outputs": [],
   "source": []
  },
  {
   "cell_type": "code",
   "execution_count": 246,
   "metadata": {},
   "outputs": [],
   "source": [
    "# Error converting n02105855_2933.jpg: cannot write mode RGBA as JPEG\n",
    "from PIL import Image\n",
    "\n",
    "image = Image.open(\"train/n02105855-Shetland_sheepdog/n02105855_2933.jpg\")\n",
    "rgb_image = image.convert('RGB')\n",
    "rgb_image.save(\"train/n02105855-Shetland_sheepdog/n02105855_2933.jpg\")"
   ]
  },
  {
   "cell_type": "code",
   "execution_count": 247,
   "metadata": {},
   "outputs": [],
   "source": [
    "# Cut images according to the bounding box, resize images, concatenate all processed data into a np array.\n",
    "def cut_resize_concat(folder):   \n",
    "    image_filenames = os.listdir(folder)   # NOTE: folder is on the breed level\n",
    "    processed_data = np.ndarray(shape=(len(image_filenames), image_size, image_size, channel_size), dtype=np.float32)\n",
    "    \n",
    "    count = 0\n",
    "    for image_filename in image_filenames:\n",
    "        try:            \n",
    "            image = misc.imread(folder + \"/\" + image_filename)\n",
    "        \n",
    "            annotation_file = 'Annotation' + \"/\" + folder.split('/')[-1] + \"/\" + image_filename.split('.')[0]\n",
    "            annotation_xml = minidom.parse(annotation_file)\n",
    "            xmin = int(annotation_xml.getElementsByTagName('xmin')[0].firstChild.nodeValue)\n",
    "            ymin = int(annotation_xml.getElementsByTagName('ymin')[0].firstChild.nodeValue)\n",
    "            xmax = int(annotation_xml.getElementsByTagName('xmax')[0].firstChild.nodeValue)\n",
    "            ymax = int(annotation_xml.getElementsByTagName('ymax')[0].firstChild.nodeValue)\n",
    "            \n",
    "            cut_image = image[ymin:ymax, xmin:xmax, :]\n",
    "            cut_resize_image = misc.imresize(cut_image, (image_size, image_size))\n",
    "            misc.imsave(\"resize/\" + folder + \"/\" + image_filename, cut_resize_image)\n",
    "            \n",
    "            processed_data[count, :, :, :] = cut_resize_image\n",
    "            count = count + 1\n",
    "        except IOError as e:\n",
    "            print(\"Error converting %s: %s\" % (image_filename, e))\n",
    "\n",
    "    processed_data = processed_data[0:count, :, :, :]\n",
    "    # print(\"Shape of processed_data:\", processed_data.shape)\n",
    "    return processed_data"
   ]
  },
  {
   "cell_type": "code",
   "execution_count": 248,
   "metadata": {},
   "outputs": [],
   "source": [
    "def pickle_per_breed(folders):\n",
    "    pickle_filenames = []\n",
    "    for folder in folders:\n",
    "        pickle_filename = folder + '.pickle'\n",
    "        pickle_filenames.append(pickle_filename)\n",
    "        if not os.path.exists(pickle_filename):\n",
    "            # print('Pickle %s...' % pickle_filename)\n",
    "            processed_data = cut_resize_concat(folder)\n",
    "            try:\n",
    "                with open(pickle_filename, 'wb') as f:\n",
    "                    pickle.dump(processed_data, f, pickle.HIGHEST_PROTOCOL)\n",
    "            except Exception as e:\n",
    "                print('Unable to save processed_data to %s: %s' % (pickle_filename, e))\n",
    "    return pickle_filenames"
   ]
  },
  {
   "cell_type": "code",
   "execution_count": 249,
   "metadata": {},
   "outputs": [
    {
     "name": "stderr",
     "output_type": "stream",
     "text": [
      "/anaconda3/lib/python3.7/site-packages/ipykernel_launcher.py:9: DeprecationWarning: `imread` is deprecated!\n",
      "`imread` is deprecated in SciPy 1.0.0, and will be removed in 1.2.0.\n",
      "Use ``imageio.imread`` instead.\n",
      "  if __name__ == '__main__':\n",
      "/anaconda3/lib/python3.7/site-packages/ipykernel_launcher.py:19: DeprecationWarning: `imresize` is deprecated!\n",
      "`imresize` is deprecated in SciPy 1.0.0, and will be removed in 1.3.0.\n",
      "Use Pillow instead: ``numpy.array(Image.fromarray(arr).resize())``.\n",
      "/anaconda3/lib/python3.7/site-packages/ipykernel_launcher.py:20: DeprecationWarning: `imsave` is deprecated!\n",
      "`imsave` is deprecated in SciPy 1.0.0, and will be removed in 1.2.0.\n",
      "Use ``imageio.imwrite`` instead.\n"
     ]
    }
   ],
   "source": [
    "pickle_filenames_train = pickle_per_breed(folders_train)\n",
    "pickle_filenames_test = pickle_per_breed(folders_test)"
   ]
  },
  {
   "cell_type": "code",
   "execution_count": 250,
   "metadata": {},
   "outputs": [],
   "source": [
    "def construct_dataset(num_rows, image_size):\n",
    "    images, labels = None, None\n",
    "    if num_rows:\n",
    "        images = np.ndarray((num_rows, image_size, image_size, channel_size), dtype=np.float32)\n",
    "        labels = np.ndarray(num_rows, dtype=np.int32)\n",
    "    return images, labels"
   ]
  },
  {
   "cell_type": "code",
   "execution_count": 251,
   "metadata": {},
   "outputs": [],
   "source": [
    "def split_dataset(pickle_filenames, train_size, validation_size=0, is_test_set=False):\n",
    "    train_X, train_y = construct_dataset(train_size, image_size)\n",
    "    validation_X, validation_y = construct_dataset(validation_size, image_size)\n",
    "    train_size_per_breed = train_size // len(pickle_filenames)\n",
    "    validation_size_per_breed = validation_size // len(pickle_filenames)\n",
    "    \n",
    "    ts, te = 0, train_size_per_breed        # start index and end index of train/test set\n",
    "    vs, ve = 0, validation_size_per_breed   # start index and end index of validation set\n",
    "    for label, pickle_filename in enumerate(pickle_filenames):\n",
    "        try:\n",
    "            with open(pickle_filename, 'rb') as f:\n",
    "                X = pickle.load(f)\n",
    "                np.random.shuffle(X)\n",
    "            \n",
    "            if not is_test_set:   # split train/validation 80/20\n",
    "                train_X[ts:te, :, :, :] = X[0:train_size_per_breed, :, :, :]\n",
    "                train_y[ts:te] = label\n",
    "                ts += train_size_per_breed\n",
    "                te += train_size_per_breed                \n",
    "\n",
    "                if validation_X is not None:\n",
    "                    validation_X[vs:ve, :, :, :] = X[train_size_per_breed:(train_size_per_breed+validation_size_per_breed), :, :, :]\n",
    "                    validation_y[vs:ve] = label\n",
    "                    vs += validation_size_per_breed\n",
    "                    ve += validation_size_per_breed\n",
    "            else:                 # test set\n",
    "                train_X[ts:(ts+len(X)), :, :, :] = X[0:len(X), :, :, :]\n",
    "                train_y[ts:(ts+len(X))] = label\n",
    "                ts += len(X)\n",
    "                \n",
    "        except Exception as e:\n",
    "            print('Unable to process %s: %s' % (pickle_filename, e))\n",
    "              \n",
    "    return train_X, train_y, validation_X, validation_y"
   ]
  },
  {
   "cell_type": "code",
   "execution_count": 252,
   "metadata": {},
   "outputs": [],
   "source": [
    "train_size, validation_size = 9600, 2400   # train set has 12,000 images, split 80/20\n",
    "test_size = 8580                           # test set has 8580 images"
   ]
  },
  {
   "cell_type": "code",
   "execution_count": 253,
   "metadata": {},
   "outputs": [
    {
     "name": "stdout",
     "output_type": "stream",
     "text": [
      "Train set: (9600, 224, 224, 3) (9600,)\n",
      "Validation set: (2400, 224, 224, 3) (2400,)\n",
      "Test set: (8580, 224, 224, 3) (8580,)\n"
     ]
    }
   ],
   "source": [
    "train_X, train_y, validation_X, validation_y = split_dataset(pickle_filenames_train, train_size, validation_size)\n",
    "test_X, test_y, _, _ = split_dataset(pickle_filenames_test, test_size, 0, is_test_set=True)\n",
    "\n",
    "print('Train set:', train_X.shape, train_y.shape)\n",
    "print('Validation set:', validation_X.shape, validation_y.shape)\n",
    "print('Test set:', test_X.shape, test_y.shape)"
   ]
  },
  {
   "cell_type": "code",
   "execution_count": 254,
   "metadata": {},
   "outputs": [],
   "source": [
    "# Save datasets to Python numpy array files\n",
    "np.save(open('train_X.npy','wb'), train_X)\n",
    "np.save(open('train_y.npy','wb'), train_y)\n",
    "np.save(open('validation_X.npy','wb'), validation_X)\n",
    "np.save(open('validation_y.npy','wb'), validation_y)\n",
    "np.save(open('test_X.npy','wb'), test_X)\n",
    "np.save(open('test_y.npy','wb'), test_y)"
   ]
  },
  {
   "cell_type": "code",
   "execution_count": null,
   "metadata": {},
   "outputs": [],
   "source": []
  },
  {
   "cell_type": "markdown",
   "metadata": {},
   "source": [
    "### 2. Model (CNN) Train and Test"
   ]
  },
  {
   "cell_type": "code",
   "execution_count": 5,
   "metadata": {},
   "outputs": [],
   "source": [
    "train_X = np.load(open(\"train_X.npy\", 'rb'))\n",
    "train_y = np.load(open(\"train_y.npy\", 'rb'))\n",
    "validation_X = np.load(open(\"validation_X.npy\", 'rb'))\n",
    "validation_y = np.load(open(\"validation_y.npy\", 'rb'))"
   ]
  },
  {
   "cell_type": "code",
   "execution_count": 6,
   "metadata": {},
   "outputs": [
    {
     "name": "stderr",
     "output_type": "stream",
     "text": [
      "Using TensorFlow backend.\n"
     ]
    }
   ],
   "source": [
    "from keras.layers import Conv2D, MaxPooling2D, GlobalAveragePooling2D\n",
    "from keras.layers import Dense\n",
    "from keras.layers.normalization import BatchNormalization\n",
    "from keras.models import Sequential\n",
    "\n",
    "from keras.preprocessing.image import ImageDataGenerator"
   ]
  },
  {
   "cell_type": "code",
   "execution_count": 7,
   "metadata": {},
   "outputs": [
    {
     "name": "stdout",
     "output_type": "stream",
     "text": [
      "WARNING:tensorflow:From /anaconda3/lib/python3.7/site-packages/tensorflow/python/framework/op_def_library.py:263: colocate_with (from tensorflow.python.framework.ops) is deprecated and will be removed in a future version.\n",
      "Instructions for updating:\n",
      "Colocations handled automatically by placer.\n",
      "_________________________________________________________________\n",
      "Layer (type)                 Output Shape              Param #   \n",
      "=================================================================\n",
      "batch_normalization_1 (Batch (None, 224, 224, 3)       12        \n",
      "_________________________________________________________________\n",
      "conv2d_1 (Conv2D)            (None, 222, 222, 16)      448       \n",
      "_________________________________________________________________\n",
      "max_pooling2d_1 (MaxPooling2 (None, 111, 111, 16)      0         \n",
      "_________________________________________________________________\n",
      "batch_normalization_2 (Batch (None, 111, 111, 16)      64        \n",
      "_________________________________________________________________\n",
      "conv2d_2 (Conv2D)            (None, 109, 109, 32)      4640      \n",
      "_________________________________________________________________\n",
      "max_pooling2d_2 (MaxPooling2 (None, 54, 54, 32)        0         \n",
      "_________________________________________________________________\n",
      "batch_normalization_3 (Batch (None, 54, 54, 32)        128       \n",
      "_________________________________________________________________\n",
      "conv2d_3 (Conv2D)            (None, 52, 52, 64)        18496     \n",
      "_________________________________________________________________\n",
      "max_pooling2d_3 (MaxPooling2 (None, 26, 26, 64)        0         \n",
      "_________________________________________________________________\n",
      "batch_normalization_4 (Batch (None, 26, 26, 64)        256       \n",
      "_________________________________________________________________\n",
      "conv2d_4 (Conv2D)            (None, 24, 24, 128)       73856     \n",
      "_________________________________________________________________\n",
      "max_pooling2d_4 (MaxPooling2 (None, 12, 12, 128)       0         \n",
      "_________________________________________________________________\n",
      "batch_normalization_5 (Batch (None, 12, 12, 128)       512       \n",
      "_________________________________________________________________\n",
      "conv2d_5 (Conv2D)            (None, 10, 10, 256)       295168    \n",
      "_________________________________________________________________\n",
      "max_pooling2d_5 (MaxPooling2 (None, 5, 5, 256)         0         \n",
      "_________________________________________________________________\n",
      "batch_normalization_6 (Batch (None, 5, 5, 256)         1024      \n",
      "_________________________________________________________________\n",
      "global_average_pooling2d_1 ( (None, 256)               0         \n",
      "_________________________________________________________________\n",
      "dense_1 (Dense)              (None, 120)               30840     \n",
      "=================================================================\n",
      "Total params: 425,444\n",
      "Trainable params: 424,446\n",
      "Non-trainable params: 998\n",
      "_________________________________________________________________\n"
     ]
    }
   ],
   "source": [
    "# Define model (CNN) architecture\n",
    "model = Sequential()\n",
    "model.add(BatchNormalization(input_shape=(224, 224, 3)))\n",
    "\n",
    "model.add(Conv2D(filters=16, kernel_size=3, kernel_initializer='he_normal', activation='relu'))\n",
    "model.add(MaxPooling2D(pool_size=2))\n",
    "model.add(BatchNormalization())\n",
    "\n",
    "model.add(Conv2D(filters=32, kernel_size=3, kernel_initializer='he_normal', activation='relu'))\n",
    "model.add(MaxPooling2D(pool_size=2))\n",
    "model.add(BatchNormalization())\n",
    "\n",
    "model.add(Conv2D(filters=64, kernel_size=3, kernel_initializer='he_normal', activation='relu'))\n",
    "model.add(MaxPooling2D(pool_size=2))\n",
    "model.add(BatchNormalization())\n",
    "\n",
    "model.add(Conv2D(filters=128, kernel_size=3, kernel_initializer='he_normal', activation='relu'))\n",
    "model.add(MaxPooling2D(pool_size=2))\n",
    "model.add(BatchNormalization())\n",
    "\n",
    "model.add(Conv2D(filters=256, kernel_size=3, kernel_initializer='he_normal', activation='relu'))\n",
    "model.add(MaxPooling2D(pool_size=2))\n",
    "model.add(BatchNormalization())\n",
    "\n",
    "model.add(GlobalAveragePooling2D())\n",
    "model.add(Dense(120, activation='softmax'))\n",
    "\n",
    "model.summary()"
   ]
  },
  {
   "cell_type": "code",
   "execution_count": 8,
   "metadata": {},
   "outputs": [],
   "source": [
    "model.compile(optimizer='adam', loss='sparse_categorical_crossentropy', metrics=['accuracy'])"
   ]
  },
  {
   "cell_type": "code",
   "execution_count": 9,
   "metadata": {},
   "outputs": [],
   "source": [
    "# Augment images by shifting horizontally, shifting vertically and flipping horizontally\n",
    "generator = ImageDataGenerator(width_shift_range=0.1, height_shift_range=0.1, horizontal_flip=True)\n",
    "generator.fit(train_X)"
   ]
  },
  {
   "cell_type": "code",
   "execution_count": 10,
   "metadata": {},
   "outputs": [
    {
     "name": "stdout",
     "output_type": "stream",
     "text": [
      "WARNING:tensorflow:From /anaconda3/lib/python3.7/site-packages/tensorflow/python/ops/math_ops.py:3066: to_int32 (from tensorflow.python.ops.math_ops) is deprecated and will be removed in a future version.\n",
      "Instructions for updating:\n",
      "Use tf.cast instead.\n",
      "Epoch 1/20\n",
      "120/120 [==============================] - 259s 2s/step - loss: 4.3248 - acc: 0.0538 - val_loss: 4.1389 - val_acc: 0.0738\n",
      "Epoch 2/20\n",
      "120/120 [==============================] - 268s 2s/step - loss: 3.9308 - acc: 0.1020 - val_loss: 3.9329 - val_acc: 0.1088\n",
      "Epoch 3/20\n",
      "120/120 [==============================] - 266s 2s/step - loss: 3.6807 - acc: 0.1350 - val_loss: 3.7287 - val_acc: 0.1300\n",
      "Epoch 4/20\n",
      "120/120 [==============================] - 262s 2s/step - loss: 3.4621 - acc: 0.1693 - val_loss: 3.7372 - val_acc: 0.1100\n",
      "Epoch 5/20\n",
      "120/120 [==============================] - 255s 2s/step - loss: 3.3196 - acc: 0.1937 - val_loss: 3.4365 - val_acc: 0.1779\n",
      "Epoch 6/20\n",
      "120/120 [==============================] - 253s 2s/step - loss: 3.1351 - acc: 0.2304 - val_loss: 3.3642 - val_acc: 0.1742\n",
      "Epoch 7/20\n",
      "120/120 [==============================] - 253s 2s/step - loss: 2.9897 - acc: 0.2575 - val_loss: 3.1709 - val_acc: 0.2150\n",
      "Epoch 8/20\n",
      "120/120 [==============================] - 253s 2s/step - loss: 2.8416 - acc: 0.2845 - val_loss: 3.2438 - val_acc: 0.2046\n",
      "Epoch 9/20\n",
      "120/120 [==============================] - 254s 2s/step - loss: 2.7142 - acc: 0.3099 - val_loss: 3.1353 - val_acc: 0.2267\n",
      "Epoch 10/20\n",
      "120/120 [==============================] - 253s 2s/step - loss: 2.6022 - acc: 0.3391 - val_loss: 3.0533 - val_acc: 0.2325\n",
      "Epoch 11/20\n",
      "120/120 [==============================] - 252s 2s/step - loss: 2.4743 - acc: 0.3703 - val_loss: 3.0851 - val_acc: 0.2392\n",
      "Epoch 12/20\n",
      "120/120 [==============================] - 252s 2s/step - loss: 2.3650 - acc: 0.3869 - val_loss: 2.8253 - val_acc: 0.2862\n",
      "Epoch 13/20\n",
      "120/120 [==============================] - 252s 2s/step - loss: 2.2423 - acc: 0.4187 - val_loss: 2.7459 - val_acc: 0.3004\n",
      "Epoch 14/20\n",
      "120/120 [==============================] - 252s 2s/step - loss: 2.1334 - acc: 0.4400 - val_loss: 2.6564 - val_acc: 0.3233\n",
      "Epoch 15/20\n",
      "120/120 [==============================] - 251s 2s/step - loss: 2.0357 - acc: 0.4686 - val_loss: 2.6578 - val_acc: 0.3221\n",
      "Epoch 16/20\n",
      "120/120 [==============================] - 251s 2s/step - loss: 1.9439 - acc: 0.4885 - val_loss: 2.6755 - val_acc: 0.3367\n",
      "Epoch 17/20\n",
      "120/120 [==============================] - 251s 2s/step - loss: 1.8607 - acc: 0.5150 - val_loss: 2.6304 - val_acc: 0.3271\n",
      "Epoch 18/20\n",
      "120/120 [==============================] - 273s 2s/step - loss: 1.7757 - acc: 0.5270 - val_loss: 2.5458 - val_acc: 0.3383\n",
      "Epoch 19/20\n",
      "120/120 [==============================] - 294s 2s/step - loss: 1.6772 - acc: 0.5543 - val_loss: 2.6304 - val_acc: 0.3400\n",
      "Epoch 20/20\n",
      "120/120 [==============================] - 294s 2s/step - loss: 1.6080 - acc: 0.5690 - val_loss: 2.4729 - val_acc: 0.3613\n"
     ]
    }
   ],
   "source": [
    "batch_size = 80\n",
    "epochs = 20\n",
    "\n",
    "history = model.fit_generator(generator.flow(train_X, train_y, batch_size=batch_size),\n",
    "                              validation_data=(validation_X, validation_y),\n",
    "                              steps_per_epoch=train_X.shape[0] // batch_size,\n",
    "                              epochs=epochs)"
   ]
  },
  {
   "cell_type": "code",
   "execution_count": null,
   "metadata": {},
   "outputs": [],
   "source": []
  },
  {
   "cell_type": "code",
   "execution_count": 11,
   "metadata": {},
   "outputs": [
    {
     "data": {
      "image/png": "[encoded data removed]",
      "text/plain": [
       "<Figure size 432x288 with 1 Axes>"
      ]
     },
     "metadata": {
      "needs_background": "light"
     },
     "output_type": "display_data"
    },
    {
     "data": {
      "image/png": "[encoded data removed]",
      "text/plain": [
       "<Figure size 432x288 with 1 Axes>"
      ]
     },
     "metadata": {
      "needs_background": "light"
     },
     "output_type": "display_data"
    }
   ],
   "source": [
    "import matplotlib.pyplot as plt\n",
    "\n",
    "# Summarize history for accuracy\n",
    "plt.plot(history.history['acc'])\n",
    "plt.plot(history.history['val_acc'])\n",
    "plt.title('model accuracy')\n",
    "plt.ylabel('accuracy')\n",
    "plt.xlabel('epoch')\n",
    "plt.legend(['train', 'val'], loc='upper left')\n",
    "plt.show()\n",
    "\n",
    "# Summarize history for loss\n",
    "plt.plot(history.history['loss'])\n",
    "plt.plot(history.history['val_loss'])\n",
    "plt.title('model loss')\n",
    "plt.ylabel('loss')\n",
    "plt.xlabel('epoch')\n",
    "plt.legend(['train', 'val'], loc='upper left')\n",
    "plt.show()"
   ]
  },
  {
   "cell_type": "code",
   "execution_count": 12,
   "metadata": {},
   "outputs": [
    {
     "name": "stdout",
     "output_type": "stream",
     "text": [
      "Test accuracy: 36.88%\n"
     ]
    }
   ],
   "source": [
    "test_X = np.load(open(\"test_X.npy\", 'rb'))\n",
    "test_y = np.load(open(\"test_y.npy\", 'rb'))\n",
    "\n",
    "predictions = [np.argmax(model.predict(np.expand_dims(x, axis=0))) for x in test_X]\n",
    "test_accuracy = 100 * np.sum(np.array(predictions) == test_y) / len(predictions)\n",
    "print('Test accuracy: %.2f%%' % test_accuracy)"
   ]
  },
  {
   "cell_type": "code",
   "execution_count": 22,
   "metadata": {},
   "outputs": [],
   "source": [
    "misclassified = np.nonzero(np.array(predictions) != test_y)[0]"
   ]
  },
  {
   "cell_type": "code",
   "execution_count": 61,
   "metadata": {},
   "outputs": [
    {
     "name": "stdout",
     "output_type": "stream",
     "text": [
      "image_index = 4869, prediction = 13, truth_label = 63\n"
     ]
    }
   ],
   "source": [
    "image_index = np.random.choice(misclassified)\n",
    "print('image_index = %d, prediction = %d, truth_label = %d' % \n",
    "      (image_index, predictions[image_index], test_y[image_index]))"
   ]
  },
  {
   "cell_type": "code",
   "execution_count": null,
   "metadata": {},
   "outputs": [],
   "source": []
  },
  {
   "cell_type": "code",
   "execution_count": null,
   "metadata": {},
   "outputs": [],
   "source": []
  },
  {
   "cell_type": "code",
   "execution_count": null,
   "metadata": {},
   "outputs": [],
   "source": []
  },
  {
   "cell_type": "code",
   "execution_count": null,
   "metadata": {},
   "outputs": [],
   "source": []
  },
  {
   "cell_type": "code",
   "execution_count": null,
   "metadata": {},
   "outputs": [],
   "source": []
  }
 ],
 "metadata": {
  "kernelspec": {
   "display_name": "Python 3",
   "language": "python",
   "name": "python3"
  },
  "language_info": {
   "codemirror_mode": {
    "name": "ipython",
    "version": 3
   },
   "file_extension": ".py",
   "mimetype": "text/x-python",
   "name": "python",
   "nbconvert_exporter": "python",
   "pygments_lexer": "ipython3",
   "version": "3.7.3"
  }
 },
 "nbformat": 4,
 "nbformat_minor": 2
}
